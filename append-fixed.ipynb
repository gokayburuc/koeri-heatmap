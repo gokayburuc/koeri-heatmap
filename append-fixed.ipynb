{
 "cells": [
  {
   "cell_type": "code",
   "execution_count": 1,
   "id": "636d7300-d71c-4ee5-beac-7ed538026f58",
   "metadata": {},
   "outputs": [],
   "source": [
    "import pandas as pd"
   ]
  },
  {
   "cell_type": "code",
   "execution_count": 2,
   "id": "27441b43-8c2d-4292-a3eb-473e1008d33e",
   "metadata": {},
   "outputs": [],
   "source": [
    "# Your existing DataFrame\n",
    "data = {'Tarih': ['2024.01.03', '2024.01.03'],\n",
    "        'Saat': ['21:48:33', '20:33:35'],\n",
    "        'Enlem(N)': [37.7462, 40.4418],\n",
    "        'Boylam(E)': [31.6310, 28.8985],\n",
    "        'Derinlik(km)': [5.0, 8.0],\n",
    "        'MD': ['-.-', '-.-'],\n",
    "        'ML': [2.4, 1.4],\n",
    "        'Mw': ['-.-', '-.-'],\n",
    "        'Yer': ['GOLKASI-BEYSEHIR (KONYA)', 'GEMLIK KORFEZI (MARMARA DENIZI)'],\n",
    "        'Çözüm Niteliği': ['İlksel', 'İlksel']}"
   ]
  },
  {
   "cell_type": "code",
   "execution_count": 3,
   "id": "31dd8661-55b5-4c81-a9d7-fb598aabe13c",
   "metadata": {},
   "outputs": [],
   "source": [
    "df = pd.DataFrame(data)"
   ]
  },
  {
   "cell_type": "code",
   "execution_count": 4,
   "id": "3ba259d9-1832-4491-aee5-95d7cbb3ba82",
   "metadata": {},
   "outputs": [],
   "source": [
    "# New data to append\n",
    "new_data = {'Tarih': ['2024.01.03', '2024.01.03'],\n",
    "            'Saat': ['18:00:00', '19:30:00'],\n",
    "            'Enlem(N)': [35.1234, 39.5678],\n",
    "            'Boylam(E)': [32.9876, 27.5432],\n",
    "            'Derinlik(km)': [10.0, 12.5],\n",
    "            'MD': ['-.-', '-.-'],\n",
    "            'ML': [3.0, 2.5],\n",
    "            'Mw': ['-.-', '-.-'],\n",
    "            'Yer': ['NEW LOCATION 1', 'NEW LOCATION 2'],\n",
    "            'Çözüm Niteliği': ['İlksel', 'İlksel']}"
   ]
  },
  {
   "cell_type": "code",
   "execution_count": 5,
   "id": "37e87518-4336-4a9f-a60f-0ad82a3cca6c",
   "metadata": {},
   "outputs": [],
   "source": [
    "# Convert new data to a DataFrame\n",
    "new_df = pd.DataFrame(new_data)"
   ]
  },
  {
   "cell_type": "code",
   "execution_count": 10,
   "id": "dc508f7c-c022-4933-bd62-76398276d2bf",
   "metadata": {},
   "outputs": [],
   "source": [
    "# FIXME: DataFrame has no method called append\n",
    "# Append new data to the existing DataFrame\n",
    "df = df._append(new_df, ignore_index=True)"
   ]
  },
  {
   "cell_type": "code",
   "execution_count": 11,
   "id": "e2e1f97b-e6ed-48b3-bd08-21ca02718ada",
   "metadata": {},
   "outputs": [
    {
     "name": "stdout",
     "output_type": "stream",
     "text": [
      "        Tarih      Saat  Enlem(N)  Boylam(E)  Derinlik(km)   MD   ML   Mw  \\\n",
      "0  2024.01.03  21:48:33   37.7462    31.6310           5.0  -.-  2.4  -.-   \n",
      "1  2024.01.03  20:33:35   40.4418    28.8985           8.0  -.-  1.4  -.-   \n",
      "2  2024.01.03  18:00:00   35.1234    32.9876          10.0  -.-  3.0  -.-   \n",
      "3  2024.01.03  19:30:00   39.5678    27.5432          12.5  -.-  2.5  -.-   \n",
      "\n",
      "                               Yer Çözüm Niteliği  \n",
      "0         GOLKASI-BEYSEHIR (KONYA)         İlksel  \n",
      "1  GEMLIK KORFEZI (MARMARA DENIZI)         İlksel  \n",
      "2                   NEW LOCATION 1         İlksel  \n",
      "3                   NEW LOCATION 2         İlksel  \n"
     ]
    }
   ],
   "source": [
    "# Print the resulting DataFrame\n",
    "print(df)"
   ]
  },
  {
   "cell_type": "code",
   "execution_count": 12,
   "id": "b28bc589-93b7-433e-9a86-702673ddfdd3",
   "metadata": {},
   "outputs": [
    {
     "data": {
      "text/html": [
       "<div>\n",
       "<style scoped>\n",
       "    .dataframe tbody tr th:only-of-type {\n",
       "        vertical-align: middle;\n",
       "    }\n",
       "\n",
       "    .dataframe tbody tr th {\n",
       "        vertical-align: top;\n",
       "    }\n",
       "\n",
       "    .dataframe thead th {\n",
       "        text-align: right;\n",
       "    }\n",
       "</style>\n",
       "<table border=\"1\" class=\"dataframe\">\n",
       "  <thead>\n",
       "    <tr style=\"text-align: right;\">\n",
       "      <th></th>\n",
       "      <th>Tarih</th>\n",
       "      <th>Saat</th>\n",
       "      <th>Enlem(N)</th>\n",
       "      <th>Boylam(E)</th>\n",
       "      <th>Derinlik(km)</th>\n",
       "      <th>MD</th>\n",
       "      <th>ML</th>\n",
       "      <th>Mw</th>\n",
       "      <th>Yer</th>\n",
       "      <th>Çözüm Niteliği</th>\n",
       "    </tr>\n",
       "  </thead>\n",
       "  <tbody>\n",
       "    <tr>\n",
       "      <th>0</th>\n",
       "      <td>2024.01.03</td>\n",
       "      <td>21:48:33</td>\n",
       "      <td>37.7462</td>\n",
       "      <td>31.6310</td>\n",
       "      <td>5.0</td>\n",
       "      <td>-.-</td>\n",
       "      <td>2.4</td>\n",
       "      <td>-.-</td>\n",
       "      <td>GOLKASI-BEYSEHIR (KONYA)</td>\n",
       "      <td>İlksel</td>\n",
       "    </tr>\n",
       "    <tr>\n",
       "      <th>1</th>\n",
       "      <td>2024.01.03</td>\n",
       "      <td>20:33:35</td>\n",
       "      <td>40.4418</td>\n",
       "      <td>28.8985</td>\n",
       "      <td>8.0</td>\n",
       "      <td>-.-</td>\n",
       "      <td>1.4</td>\n",
       "      <td>-.-</td>\n",
       "      <td>GEMLIK KORFEZI (MARMARA DENIZI)</td>\n",
       "      <td>İlksel</td>\n",
       "    </tr>\n",
       "    <tr>\n",
       "      <th>2</th>\n",
       "      <td>2024.01.03</td>\n",
       "      <td>18:00:00</td>\n",
       "      <td>35.1234</td>\n",
       "      <td>32.9876</td>\n",
       "      <td>10.0</td>\n",
       "      <td>-.-</td>\n",
       "      <td>3.0</td>\n",
       "      <td>-.-</td>\n",
       "      <td>NEW LOCATION 1</td>\n",
       "      <td>İlksel</td>\n",
       "    </tr>\n",
       "    <tr>\n",
       "      <th>3</th>\n",
       "      <td>2024.01.03</td>\n",
       "      <td>19:30:00</td>\n",
       "      <td>39.5678</td>\n",
       "      <td>27.5432</td>\n",
       "      <td>12.5</td>\n",
       "      <td>-.-</td>\n",
       "      <td>2.5</td>\n",
       "      <td>-.-</td>\n",
       "      <td>NEW LOCATION 2</td>\n",
       "      <td>İlksel</td>\n",
       "    </tr>\n",
       "  </tbody>\n",
       "</table>\n",
       "</div>"
      ],
      "text/plain": [
       "        Tarih      Saat  Enlem(N)  Boylam(E)  Derinlik(km)   MD   ML   Mw  \\\n",
       "0  2024.01.03  21:48:33   37.7462    31.6310           5.0  -.-  2.4  -.-   \n",
       "1  2024.01.03  20:33:35   40.4418    28.8985           8.0  -.-  1.4  -.-   \n",
       "2  2024.01.03  18:00:00   35.1234    32.9876          10.0  -.-  3.0  -.-   \n",
       "3  2024.01.03  19:30:00   39.5678    27.5432          12.5  -.-  2.5  -.-   \n",
       "\n",
       "                               Yer Çözüm Niteliği  \n",
       "0         GOLKASI-BEYSEHIR (KONYA)         İlksel  \n",
       "1  GEMLIK KORFEZI (MARMARA DENIZI)         İlksel  \n",
       "2                   NEW LOCATION 1         İlksel  \n",
       "3                   NEW LOCATION 2         İlksel  "
      ]
     },
     "execution_count": 12,
     "metadata": {},
     "output_type": "execute_result"
    }
   ],
   "source": [
    "df"
   ]
  },
  {
   "cell_type": "code",
   "execution_count": null,
   "id": "b9120882-c619-4066-9990-b476e2b9abb0",
   "metadata": {},
   "outputs": [],
   "source": []
  }
 ],
 "metadata": {
  "kernelspec": {
   "display_name": "Python 3 (ipykernel)",
   "language": "python",
   "name": "python3"
  },
  "language_info": {
   "codemirror_mode": {
    "name": "ipython",
    "version": 3
   },
   "file_extension": ".py",
   "mimetype": "text/x-python",
   "name": "python",
   "nbconvert_exporter": "python",
   "pygments_lexer": "ipython3",
   "version": "3.8.10"
  }
 },
 "nbformat": 4,
 "nbformat_minor": 5
}
